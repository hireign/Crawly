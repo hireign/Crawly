{
 "cells": [
  {
   "cell_type": "code",
   "execution_count": 1,
   "metadata": {},
   "outputs": [],
   "source": [
    "import requests\n",
    "from bs4 import BeautifulSoup\n",
    "import pandas as pd"
   ]
  },
  {
   "cell_type": "code",
   "execution_count": 2,
   "metadata": {},
   "outputs": [
    {
     "data": {
      "text/plain": [
       "'https://www.boredpanda.com'"
      ]
     },
     "execution_count": 2,
     "metadata": {},
     "output_type": "execute_result"
    }
   ],
   "source": [
    "rootURL = \"https://www.boredpanda.com/\"\n",
    "# Ads http:// to the given URL because it is the only way to check for server response\n",
    "# If the user will add to the URL directions then they will be deleted\n",
    "# Example: 'https://moz.com/learn/seo/external-link' will turn to 'https://moz.com/'\n",
    "# https://stackoverflow.com/questions/32314304/check-if-an-url-is-relative-to-another-ie-they-are-on-the-same-host\n",
    "if rootURL.split('//')[0] != 'http:' and rootURL.split('//')[0] != 'https:':\n",
    "    rootURL = 'http://' + rootURL\n",
    "rootURL = rootURL.split('/')[0] + '//' + rootURL.split('/')[2]    \n",
    "source_code = requests.get(rootURL)\n",
    "soup = BeautifulSoup(source_code.text, \"lxml\")\n",
    "rootURL"
   ]
  },
  {
   "cell_type": "code",
   "execution_count": 3,
   "metadata": {},
   "outputs": [
    {
     "data": {
      "text/plain": [
       "'boredpanda.com'"
      ]
     },
     "execution_count": 3,
     "metadata": {},
     "output_type": "execute_result"
    }
   ],
   "source": [
    "import re\n",
    "domainName = re.compile(r\"https?://(www\\.)?\")\n",
    "domainName = domainName.sub('', rootURL).strip().strip('/')\n",
    "# domainName = domainName.split('.')[0]\n",
    "domainName"
   ]
  },
  {
   "cell_type": "code",
   "execution_count": 4,
   "metadata": {},
   "outputs": [
    {
     "data": {
      "text/plain": [
       "['boredpanda.com',\n",
       " 'http://boredpanda.com',\n",
       " 'http://boredpanda.com/',\n",
       " 'http://boredpanda.com//',\n",
       " 'https://boredpanda.com',\n",
       " 'https://boredpanda.com/',\n",
       " 'https://boredpanda.com//',\n",
       " 'http://www.boredpanda.com',\n",
       " 'http://www.boredpanda.com/',\n",
       " 'http://www.boredpanda.com//',\n",
       " 'https://www.boredpanda.com',\n",
       " 'https://www.boredpanda.com/',\n",
       " 'https://www.boredpanda.com//']"
      ]
     },
     "execution_count": 4,
     "metadata": {},
     "output_type": "execute_result"
    }
   ],
   "source": [
    "alternativeURLs = []\n",
    "alternativeURLs.append(domainName)\n",
    "alternativeURLs.append(\"http://\"+domainName)\n",
    "alternativeURLs.append(\"http://\"+domainName+\"/\")\n",
    "alternativeURLs.append(\"http://\"+domainName+\"//\")\n",
    "alternativeURLs.append(\"https://\"+domainName)\n",
    "alternativeURLs.append(\"https://\"+domainName+\"/\")\n",
    "alternativeURLs.append(\"https://\"+domainName+\"//\")\n",
    "alternativeURLs.append(\"http://www.\"+domainName)\n",
    "alternativeURLs.append(\"http://www.\"+domainName+\"/\")\n",
    "alternativeURLs.append(\"http://www.\"+domainName+\"//\")\n",
    "alternativeURLs.append(\"https://www.\"+domainName)\n",
    "alternativeURLs.append(\"https://www.\"+domainName+\"/\")\n",
    "alternativeURLs.append(\"https://www.\"+domainName+\"//\")\n",
    "alternativeURLs"
   ]
  },
  {
   "cell_type": "code",
   "execution_count": 5,
   "metadata": {},
   "outputs": [],
   "source": [
    "urlList = []\n",
    "externalURLKeywords = [\"http\", \"www\", \".com\"]\n",
    "exceptions = [\"#\", \" \", \"tel:\", \"callto:\", \"mailto:\", \"wp-content\", \".pdf\", \"twitter.com\", \"facebook.com\", \"google.com\", \"pinterest.com\", \".jpg\", \".jpeg\", \".webm\"]"
   ]
  },
  {
   "cell_type": "code",
   "execution_count": 6,
   "metadata": {},
   "outputs": [],
   "source": [
    "def urlCrawler(url, current_page, max_pages):\n",
    "    tempURL = \"\"\n",
    "    print(\"now crawling page: \"+url)\n",
    "    current_page+=1\n",
    "    if(current_page == 1):\n",
    "        urlList.append(url)\n",
    "    source_code = requests.get(url)\n",
    "    if(source_code.status_code == 406):\n",
    "        source_code = requests.get(rootURL, headers={\"User-Agent\": \"XY\"})\n",
    "        status_code = source_code.status_code\n",
    "        print(\"new status code: \"+str(status_code))\n",
    "    plain_text = source_code.text\n",
    "    soup = BeautifulSoup(plain_text)\n",
    "    a = soup.findAll(\"a\")\n",
    "    for eachURL in a:\n",
    "        href = eachURL.get(\"href\")\n",
    "        if(href):\n",
    "            if not any(x in href for x in exceptions):\n",
    "                if (href not in alternativeURLs and rootURL+\"\"+href not in alternativeURLs):\n",
    "                    if(domainName in href):\n",
    "                        print(\"appending \"+href+\" for domainName in href\")\n",
    "                        tempURL = href\n",
    "                    elif(len(href)>1 and href[0] == \"/\"):\n",
    "                        print(\"appending \"+href+\" for len(href)>1 and href[0] == \"/\"\")\n",
    "                        tempURL = rootURL+\"\"+href\n",
    "                    elif any(x in href for x in externalURLKeywords):\n",
    "                        print(\"not appending \"+href+\" for any(x in href for x in externalURLKeywords)\")\n",
    "                        tempURL = \"\"\n",
    "                    else:\n",
    "                        print(\"appending \"+href+\" for else\")\n",
    "                        tempURL = rootURL+\"/\"+href\n",
    "                if(tempURL!=\"\"):\n",
    "                    if (tempURL not in urlList and tempURL != rootURL):\n",
    "                        urlList.append(tempURL)\n",
    "                        print(\"appending: \"+tempURL)\n",
    "    if(current_page < max_pages and current_page < len(urlList)):\n",
    "        urlCrawler(urlList[current_page], current_page, max_pages)"
   ]
  },
  {
   "cell_type": "code",
   "execution_count": 7,
   "metadata": {},
   "outputs": [
    {
     "name": "stdout",
     "output_type": "stream",
     "text": [
      "now crawling page: https://www.boredpanda.com\n",
      "not appending https://itunes.apple.com/app/apple-store/id1001593357?pt=117833574&ct=Website%20Takeover&mt=8 for any(x in href for x in externalURLKeywords)\n",
      "appending javascript:void(0); for else\n",
      "appending: https://www.boredpanda.com/javascript:void(0);\n",
      "appending javascript:void(0) for else\n",
      "appending: https://www.boredpanda.com/javascript:void(0)\n",
      "appending javascript:void(0) for else\n",
      "appending javascript:void(0) for else\n",
      "appending javascript:void(0) for else\n",
      "appending javascript:void(0); for else\n",
      "appending javascript:void(0); for else\n",
      "appending javascript:void(0); for else\n"
     ]
    },
    {
     "ename": "TypeError",
     "evalue": "unsupported operand type(s) for /: 'str' and 'str'",
     "output_type": "error",
     "traceback": [
      "\u001b[1;31m---------------------------------------------------------------------------\u001b[0m",
      "\u001b[1;31mTypeError\u001b[0m                                 Traceback (most recent call last)",
      "\u001b[1;32m<ipython-input-7-55194694aab4>\u001b[0m in \u001b[0;36m<module>\u001b[1;34m\u001b[0m\n\u001b[0;32m      1\u001b[0m \u001b[0murlList\u001b[0m \u001b[1;33m=\u001b[0m \u001b[1;33m[\u001b[0m\u001b[1;33m]\u001b[0m\u001b[1;33m\u001b[0m\u001b[1;33m\u001b[0m\u001b[0m\n\u001b[0;32m      2\u001b[0m \u001b[0mtotalURL\u001b[0m \u001b[1;33m=\u001b[0m \u001b[1;36m0\u001b[0m\u001b[1;33m\u001b[0m\u001b[1;33m\u001b[0m\u001b[0m\n\u001b[1;32m----> 3\u001b[1;33m \u001b[0murlCrawler\u001b[0m\u001b[1;33m(\u001b[0m\u001b[0mrootURL\u001b[0m\u001b[1;33m,\u001b[0m \u001b[1;36m0\u001b[0m\u001b[1;33m,\u001b[0m \u001b[1;36m1000\u001b[0m\u001b[1;33m)\u001b[0m\u001b[1;33m\u001b[0m\u001b[1;33m\u001b[0m\u001b[0m\n\u001b[0m\u001b[0;32m      4\u001b[0m \u001b[1;32mimport\u001b[0m \u001b[0mtime\u001b[0m\u001b[1;33m\u001b[0m\u001b[1;33m\u001b[0m\u001b[0m\n\u001b[0;32m      5\u001b[0m \u001b[0mstart_time\u001b[0m \u001b[1;33m=\u001b[0m \u001b[0mtime\u001b[0m\u001b[1;33m.\u001b[0m\u001b[0mtime\u001b[0m\u001b[1;33m(\u001b[0m\u001b[1;33m)\u001b[0m\u001b[1;33m\u001b[0m\u001b[1;33m\u001b[0m\u001b[0m\n",
      "\u001b[1;32m<ipython-input-6-b0dc4efc01c3>\u001b[0m in \u001b[0;36murlCrawler\u001b[1;34m(url, current_page, max_pages)\u001b[0m\n\u001b[0;32m     22\u001b[0m                         \u001b[0mtempURL\u001b[0m \u001b[1;33m=\u001b[0m \u001b[0mhref\u001b[0m\u001b[1;33m\u001b[0m\u001b[1;33m\u001b[0m\u001b[0m\n\u001b[0;32m     23\u001b[0m                     \u001b[1;32melif\u001b[0m\u001b[1;33m(\u001b[0m\u001b[0mlen\u001b[0m\u001b[1;33m(\u001b[0m\u001b[0mhref\u001b[0m\u001b[1;33m)\u001b[0m\u001b[1;33m>\u001b[0m\u001b[1;36m1\u001b[0m \u001b[1;32mand\u001b[0m \u001b[0mhref\u001b[0m\u001b[1;33m[\u001b[0m\u001b[1;36m0\u001b[0m\u001b[1;33m]\u001b[0m \u001b[1;33m==\u001b[0m \u001b[1;34m\"/\"\u001b[0m\u001b[1;33m)\u001b[0m\u001b[1;33m:\u001b[0m\u001b[1;33m\u001b[0m\u001b[1;33m\u001b[0m\u001b[0m\n\u001b[1;32m---> 24\u001b[1;33m                         \u001b[0mprint\u001b[0m\u001b[1;33m(\u001b[0m\u001b[1;34m\"appending \"\u001b[0m\u001b[1;33m+\u001b[0m\u001b[0mhref\u001b[0m\u001b[1;33m+\u001b[0m\u001b[1;34m\" for len(href)>1 and href[0] == \"\u001b[0m\u001b[1;33m/\u001b[0m\u001b[1;34m\"\"\u001b[0m\u001b[1;33m)\u001b[0m\u001b[1;33m\u001b[0m\u001b[1;33m\u001b[0m\u001b[0m\n\u001b[0m\u001b[0;32m     25\u001b[0m                         \u001b[0mtempURL\u001b[0m \u001b[1;33m=\u001b[0m \u001b[0mrootURL\u001b[0m\u001b[1;33m+\u001b[0m\u001b[1;34m\"\"\u001b[0m\u001b[1;33m+\u001b[0m\u001b[0mhref\u001b[0m\u001b[1;33m\u001b[0m\u001b[1;33m\u001b[0m\u001b[0m\n\u001b[0;32m     26\u001b[0m                     \u001b[1;32melif\u001b[0m \u001b[0many\u001b[0m\u001b[1;33m(\u001b[0m\u001b[0mx\u001b[0m \u001b[1;32min\u001b[0m \u001b[0mhref\u001b[0m \u001b[1;32mfor\u001b[0m \u001b[0mx\u001b[0m \u001b[1;32min\u001b[0m \u001b[0mexternalURLKeywords\u001b[0m\u001b[1;33m)\u001b[0m\u001b[1;33m:\u001b[0m\u001b[1;33m\u001b[0m\u001b[1;33m\u001b[0m\u001b[0m\n",
      "\u001b[1;31mTypeError\u001b[0m: unsupported operand type(s) for /: 'str' and 'str'"
     ]
    }
   ],
   "source": [
    "urlList = []\n",
    "totalURL = 0\n",
    "urlCrawler(rootURL, 0, 1000)\n",
    "import time\n",
    "start_time = time.time()\n",
    "print(\"--- %s seconds ---\" % (time.time() - start_time))"
   ]
  },
  {
   "cell_type": "code",
   "execution_count": 12,
   "metadata": {},
   "outputs": [
    {
     "data": {
      "text/html": [
       "<div>\n",
       "<style scoped>\n",
       "    .dataframe tbody tr th:only-of-type {\n",
       "        vertical-align: middle;\n",
       "    }\n",
       "\n",
       "    .dataframe tbody tr th {\n",
       "        vertical-align: top;\n",
       "    }\n",
       "\n",
       "    .dataframe thead th {\n",
       "        text-align: right;\n",
       "    }\n",
       "</style>\n",
       "<table border=\"1\" class=\"dataframe\">\n",
       "  <thead>\n",
       "    <tr style=\"text-align: right;\">\n",
       "      <th></th>\n",
       "      <th>0</th>\n",
       "    </tr>\n",
       "  </thead>\n",
       "  <tbody>\n",
       "    <tr>\n",
       "      <th>0</th>\n",
       "      <td>https://www.visual-literacy.org</td>\n",
       "    </tr>\n",
       "    <tr>\n",
       "      <th>1</th>\n",
       "      <td>https://www.visual-literacy.org/about-us/</td>\n",
       "    </tr>\n",
       "    <tr>\n",
       "      <th>2</th>\n",
       "      <td>https://www.visual-literacy.org/articles/</td>\n",
       "    </tr>\n",
       "    <tr>\n",
       "      <th>3</th>\n",
       "      <td>https://www.visual-literacy.org/videos/</td>\n",
       "    </tr>\n",
       "    <tr>\n",
       "      <th>4</th>\n",
       "      <td>https://www.visual-literacy.org/books/</td>\n",
       "    </tr>\n",
       "    <tr>\n",
       "      <th>5</th>\n",
       "      <td>https://www.visual-literacy.org/maps/</td>\n",
       "    </tr>\n",
       "    <tr>\n",
       "      <th>6</th>\n",
       "      <td>https://www.visual-literacy.org/contact-us/</td>\n",
       "    </tr>\n",
       "    <tr>\n",
       "      <th>7</th>\n",
       "      <td>https://www.visual-literacy.org/pages/maps/map...</td>\n",
       "    </tr>\n",
       "    <tr>\n",
       "      <th>8</th>\n",
       "      <td>https://www.visual-literacy.org/pages/maps/boo...</td>\n",
       "    </tr>\n",
       "    <tr>\n",
       "      <th>9</th>\n",
       "      <td>https://www.visual-literacy.org/pages/maps/vis...</td>\n",
       "    </tr>\n",
       "    <tr>\n",
       "      <th>10</th>\n",
       "      <td>https://www.visual-literacy.org/stairs_of_viz/...</td>\n",
       "    </tr>\n",
       "    <tr>\n",
       "      <th>11</th>\n",
       "      <td>https://www.visual-literacy.org/periodic_table...</td>\n",
       "    </tr>\n",
       "    <tr>\n",
       "      <th>12</th>\n",
       "      <td>https://www.visual-literacy.org/pages/maps/shn...</td>\n",
       "    </tr>\n",
       "    <tr>\n",
       "      <th>13</th>\n",
       "      <td>http://www.visual-literacy.org/periodic_table/...</td>\n",
       "    </tr>\n",
       "  </tbody>\n",
       "</table>\n",
       "</div>"
      ],
      "text/plain": [
       "                                                    0\n",
       "0                     https://www.visual-literacy.org\n",
       "1           https://www.visual-literacy.org/about-us/\n",
       "2           https://www.visual-literacy.org/articles/\n",
       "3             https://www.visual-literacy.org/videos/\n",
       "4              https://www.visual-literacy.org/books/\n",
       "5               https://www.visual-literacy.org/maps/\n",
       "6         https://www.visual-literacy.org/contact-us/\n",
       "7   https://www.visual-literacy.org/pages/maps/map...\n",
       "8   https://www.visual-literacy.org/pages/maps/boo...\n",
       "9   https://www.visual-literacy.org/pages/maps/vis...\n",
       "10  https://www.visual-literacy.org/stairs_of_viz/...\n",
       "11  https://www.visual-literacy.org/periodic_table...\n",
       "12  https://www.visual-literacy.org/pages/maps/shn...\n",
       "13  http://www.visual-literacy.org/periodic_table/..."
      ]
     },
     "execution_count": 12,
     "metadata": {},
     "output_type": "execute_result"
    }
   ],
   "source": [
    "urlListDF = pd.DataFrame(urlList)\n",
    "urlListDF.head(1000)"
   ]
  },
  {
   "cell_type": "code",
   "execution_count": 13,
   "metadata": {},
   "outputs": [],
   "source": [
    "# urlName = rootURL\n",
    "# urlName = urlName.replace(\"http://\",\"\")\n",
    "# urlName = urlName.replace(\"https://\",\"\")\n",
    "# urlName = urlName.replace(\"www.\",\"\")\n",
    "# # urlName = urlName.replace(\"/\",\"\")\n",
    "# urlListDF.to_csv(r'C:\\Users\\hiren\\crawly\\urlList_'+urlName+'.csv')"
   ]
  },
  {
   "cell_type": "code",
   "execution_count": 14,
   "metadata": {},
   "outputs": [
    {
     "data": {
      "text/plain": [
       "14"
      ]
     },
     "execution_count": 14,
     "metadata": {},
     "output_type": "execute_result"
    }
   ],
   "source": [
    "len(urlList)"
   ]
  },
  {
   "cell_type": "code",
   "execution_count": 15,
   "metadata": {},
   "outputs": [
    {
     "data": {
      "text/plain": [
       "['https://www.visual-literacy.org',\n",
       " 'https://www.visual-literacy.org/about-us/',\n",
       " 'https://www.visual-literacy.org/articles/',\n",
       " 'https://www.visual-literacy.org/videos/',\n",
       " 'https://www.visual-literacy.org/books/',\n",
       " 'https://www.visual-literacy.org/maps/',\n",
       " 'https://www.visual-literacy.org/contact-us/',\n",
       " 'https://www.visual-literacy.org/pages/maps/mapping_tools_radar/radar.html',\n",
       " 'https://www.visual-literacy.org/pages/maps/books_interactive_map.html',\n",
       " 'https://www.visual-literacy.org/pages/maps/visualization_scholars/index.html',\n",
       " 'https://www.visual-literacy.org/stairs_of_viz/stairs_of_viz.html',\n",
       " 'https://www.visual-literacy.org/periodic_table/periodic_table.html',\n",
       " 'https://www.visual-literacy.org/pages/maps/shneiderman_interface.html',\n",
       " 'http://www.visual-literacy.org/periodic_table/periodic_table.html']"
      ]
     },
     "execution_count": 15,
     "metadata": {},
     "output_type": "execute_result"
    }
   ],
   "source": [
    "urlList"
   ]
  },
  {
   "cell_type": "code",
   "execution_count": null,
   "metadata": {},
   "outputs": [],
   "source": [
    "linkslist = []\n",
    "i=0\n",
    "while (i<5):\n",
    "    linklist = {}\n",
    "    linklist['title'] = \"title_\"+str(i+1)\n",
    "    linklist['url'] = \"url_\"+str(i+1)\n",
    "    linkslist.append(linklist)\n",
    "    i+=1"
   ]
  },
  {
   "cell_type": "code",
   "execution_count": null,
   "metadata": {},
   "outputs": [],
   "source": [
    "linkslist"
   ]
  },
  {
   "cell_type": "code",
   "execution_count": null,
   "metadata": {},
   "outputs": [],
   "source": [
    "\n",
    "linkslist[1]['url'] = 'updated_url_2'"
   ]
  },
  {
   "cell_type": "code",
   "execution_count": null,
   "metadata": {},
   "outputs": [],
   "source": [
    "linkslist"
   ]
  },
  {
   "cell_type": "code",
   "execution_count": null,
   "metadata": {},
   "outputs": [],
   "source": []
  }
 ],
 "metadata": {
  "kernelspec": {
   "display_name": "Python 3",
   "language": "python",
   "name": "python3"
  },
  "language_info": {
   "codemirror_mode": {
    "name": "ipython",
    "version": 3
   },
   "file_extension": ".py",
   "mimetype": "text/x-python",
   "name": "python",
   "nbconvert_exporter": "python",
   "pygments_lexer": "ipython3",
   "version": "3.7.3"
  }
 },
 "nbformat": 4,
 "nbformat_minor": 2
}
